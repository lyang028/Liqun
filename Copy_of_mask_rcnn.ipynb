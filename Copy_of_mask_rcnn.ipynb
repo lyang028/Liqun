{
  "nbformat": 4,
  "nbformat_minor": 0,
  "metadata": {
    "colab": {
      "name": "Copy of mask-rcnn.ipynb",
      "provenance": [],
      "private_outputs": true,
      "collapsed_sections": [],
      "toc_visible": true,
      "include_colab_link": true
    },
    "kernelspec": {
      "name": "python3",
      "display_name": "Python 3"
    },
    "accelerator": "GPU"
  },
  "cells": [
    {
      "cell_type": "markdown",
      "metadata": {
        "id": "view-in-github",
        "colab_type": "text"
      },
      "source": [
        "<a href=\"https://colab.research.google.com/github/lyang028/Liqun/blob/master/Copy_of_mask_rcnn.ipynb\" target=\"_parent\"><img src=\"https://colab.research.google.com/assets/colab-badge.svg\" alt=\"Open In Colab\"/></a>"
      ]
    },
    {
      "cell_type": "markdown",
      "metadata": {
        "id": "nNDAqsJnpWRG",
        "colab_type": "text"
      },
      "source": [
        "Initialize (link google drive)"
      ]
    },
    {
      "cell_type": "code",
      "metadata": {
        "id": "wfSVGqVnVBtS",
        "colab_type": "code",
        "colab": {}
      },
      "source": [
        "from google.colab import drive\n",
        "drive.mount('/content/drive')"
      ],
      "execution_count": 0,
      "outputs": []
    },
    {
      "cell_type": "markdown",
      "metadata": {
        "id": "1y1Cq694pcmv",
        "colab_type": "text"
      },
      "source": [
        "clone project from github"
      ]
    },
    {
      "cell_type": "code",
      "metadata": {
        "id": "nUE7g0LHphE4",
        "colab_type": "code",
        "colab": {}
      },
      "source": [
        "!git clone https://github.com/lyang028/mask_rcnn_dataargumentation.git "
      ],
      "execution_count": 0,
      "outputs": []
    },
    {
      "cell_type": "markdown",
      "metadata": {
        "id": "muk2BjuXzVoT",
        "colab_type": "text"
      },
      "source": [
        "Training function"
      ]
    },
    {
      "cell_type": "code",
      "metadata": {
        "id": "ZIl_V_bQpPpv",
        "colab_type": "code",
        "colab": {}
      },
      "source": [
        "%cd mask_rcnn_dataargumentation/\n",
        "!python workers_keep_train.py"
      ],
      "execution_count": 0,
      "outputs": []
    },
    {
      "cell_type": "markdown",
      "metadata": {
        "id": "O03jLmzrza1q",
        "colab_type": "text"
      },
      "source": [
        "Test function"
      ]
    },
    {
      "cell_type": "code",
      "metadata": {
        "id": "yLDUJUWhzeUa",
        "colab_type": "code",
        "colab": {}
      },
      "source": [
        "%cd mask_rcnn_dataargumentation/\n",
        "!python predition.py"
      ],
      "execution_count": 0,
      "outputs": []
    },
    {
      "cell_type": "code",
      "metadata": {
        "id": "IZ46luxEzkz6",
        "colab_type": "code",
        "colab": {}
      },
      "source": [
        "%cd ..\n",
        "!ls"
      ],
      "execution_count": 0,
      "outputs": []
    },
    {
      "cell_type": "code",
      "metadata": {
        "id": "kdXnwt9TIkFL",
        "colab_type": "code",
        "colab": {}
      },
      "source": [
        "%cd mask_rcnn_dataargumentation/\n",
        "!python test.py test test\n",
        "\n"
      ],
      "execution_count": 0,
      "outputs": []
    },
    {
      "cell_type": "markdown",
      "metadata": {
        "id": "Ez52AcIJC3va",
        "colab_type": "text"
      },
      "source": [
        "**Calculate entropy**"
      ]
    },
    {
      "cell_type": "code",
      "metadata": {
        "id": "-UB68Q7UDST1",
        "colab_type": "code",
        "colab": {}
      },
      "source": [
        "!pip install opencv-python"
      ],
      "execution_count": 0,
      "outputs": []
    },
    {
      "cell_type": "code",
      "metadata": {
        "id": "xeUsNUXhW0xt",
        "colab_type": "code",
        "colab": {}
      },
      "source": [
        "%cd content"
      ],
      "execution_count": 0,
      "outputs": []
    },
    {
      "cell_type": "markdown",
      "metadata": {
        "id": "O2H6p2ERr4CB",
        "colab_type": "text"
      },
      "source": [
        "Calculate wd"
      ]
    },
    {
      "cell_type": "code",
      "metadata": {
        "id": "u-TcgS8Vr6Mi",
        "colab_type": "code",
        "colab": {}
      },
      "source": [
        "%cd mask_rcnn_dataargumentation/\n",
        "!python detect_layer_inner_structure.py"
      ],
      "execution_count": 0,
      "outputs": []
    },
    {
      "cell_type": "code",
      "metadata": {
        "id": "dPJOXbEU1znw",
        "colab_type": "code",
        "colab": {}
      },
      "source": [
        "%cd ../drive/My Drive/silhouette_weight/logs/worker20200112T0054/\n",
        "!ls"
      ],
      "execution_count": 0,
      "outputs": []
    }
  ]
}